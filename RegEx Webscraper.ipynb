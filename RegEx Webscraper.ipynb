{
 "cells": [
  {
   "cell_type": "code",
   "execution_count": 56,
   "metadata": {},
   "outputs": [],
   "source": [
    "# bringing in the necessary libraries\n",
    "\n",
    "import urllib3\n",
    "import re\n",
    "import json\n",
    "import pyodbc\n",
    "\n",
    "# since my machine (I think) lacks the proper certifications for this project,\n",
    "# the next line of code in conjunction with cert_reqs='CERT_NONE' temporarily bandades error issues.\n",
    "\n",
    "urllib3.disable_warnings()"
   ]
  },
  {
   "cell_type": "code",
   "execution_count": 57,
   "metadata": {},
   "outputs": [],
   "source": [
    "# declaring sensitive variables provided in separate document.\n",
    "\n",
    "with open('C:\\\\Users\\\\Buyer\\\\Desktop\\\\School\\\\DA 320\\\\Credentials\\\\credentials.json') as f:\n",
    "    data = json.load(f)\n",
    "    username = data['username']\n",
    "    password = data['password']"
   ]
  },
  {
   "cell_type": "code",
   "execution_count": 59,
   "metadata": {},
   "outputs": [],
   "source": [
    "# connecting to the actual database\n",
    "\n",
    "conn = pyodbc.connect(\"Driver={SQL Server};\"\n",
    "                      \"Server=THEGARDEN\\MSSQLSERVER1;\"\n",
    "                      \"Database=PortfolioProject;\"\n",
    "                      \"Trusted_Connection=Yes;\"\n",
    "                      \"UID=\" + username + \";\"\n",
    "                      \"PWD=\" + password)"
   ]
  },
  {
   "cell_type": "code",
   "execution_count": 60,
   "metadata": {},
   "outputs": [],
   "source": [
    "# declaring an identity variable the url server requires.\n",
    "\n",
    "headers = {\"User-Agent\": \"Chrome/94.0.4606.71\"}\n",
    "\n",
    "# now we're gonna party like it's 2001\n",
    "\n",
    "url = 'https://www.metacritic.com/browse/movies/score/metascore/year/filtered?year_selected=2001&sort=desc&view=detailed'"
   ]
  },
  {
   "cell_type": "code",
   "execution_count": 61,
   "metadata": {},
   "outputs": [],
   "source": [
    "# https://stackoverflow.com/questions/34735761/https-url-ignore-cert-warning-and-continue?rq=1\n",
    "# the link above helped me discover how to work around the SSL Certificate error with urllib3.\n",
    "\n",
    "http = urllib3.PoolManager(cert_reqs='CERT_NONE')\n",
    "\n",
    "# initiating a request to check out the url\n",
    "\n",
    "r = http.request('GET', url, headers=headers)\n",
    "\n",
    "# changing to data type to make the request readable\n",
    "\n",
    "text = str(r.data, 'utf-8')"
   ]
  },
  {
   "cell_type": "code",
   "execution_count": 62,
   "metadata": {},
   "outputs": [],
   "source": [
    "# declaring RegEx variables and where to search for them.\n",
    "\n",
    "titles = re.findall('class=\"title\"><h3>(.*)<\\/h3>', text)\n",
    "dates = re.findall('<span>(.*)<\\/span>\\n\\n', text)\n",
    "summaries = re.findall('<div class=\"summary\">\\n\\s+(.*)', text)\n",
    "scores = re.findall('>(\\d*)<\\/div>\\n\\s+<\\/a>\\n\\n\\s+<\\/div>\\n\\n', text)\n",
    "images = re.findall('movie\\/.*><img src=\"(.*.jpg)', text)\n",
    "\n",
    "#an empty array to place all of the data into.\n",
    "\n",
    "array = []"
   ]
  },
  {
   "cell_type": "code",
   "execution_count": 63,
   "metadata": {},
   "outputs": [],
   "source": [
    "# declaring a cursor object to use later\n",
    "# as well as the SQL+Python code and column names.\n",
    "\n",
    "cursor = conn.cursor()\n",
    "sql = \"INSERT INTO MetaCriticMovies (MovieTitle, ReleaseDate, Description, Metascore, ThumbnailImage) values (?,?,?,?,?)\"\n",
    "args = \"Title\", \"Release Date\", \"Summary\", \"Score\", \"ImgURL\"\n"
   ]
  },
  {
   "cell_type": "code",
   "execution_count": 71,
   "metadata": {},
   "outputs": [],
   "source": [
    "# Another David Arvilla inspired loop\n",
    "# For each movie title, print the findings of each RegEx variable\n",
    "\n",
    "for i in range(len(titles)):\n",
    "    args = titles[i], dates[i], summaries[i], scores[i], images[i]\n",
    "    cursor.execute(sql, args)\n",
    "    cursor.commit()"
   ]
  },
  {
   "cell_type": "code",
   "execution_count": 135,
   "metadata": {},
   "outputs": [],
   "source": [
    "# Inspired by David Arvilla to put everything into an array\n",
    "# and then print out the contents through a loop.\n",
    "\n",
    "#for i in range(100):\n",
    "#    array.append(str(i+1) + \") \" +\n",
    "#                     str(\"Title: \" + titles[i] + \n",
    "#                     \" || Release Date: \" + dates[i] +\n",
    "#                     \" || Metascore: \" + scores[i] + \"\\n\"\n",
    "#                     \"Summary: \" + summaries[i] + \"\\n\"\n",
    "#                     \"Image: \" + images[i]))"
   ]
  },
  {
   "cell_type": "code",
   "execution_count": 25,
   "metadata": {},
   "outputs": [],
   "source": [
    "# If we wanted to just print everything here:\n",
    "\n",
    "# for as many times as the array is long...\n",
    "# print out each part followed by two lines.\n",
    "\n",
    "#for i in range(len(array)):\n",
    "#    print(str(array[i]), \"\\n\\n\")"
   ]
  }
 ],
 "metadata": {
  "kernelspec": {
   "display_name": "Python 3",
   "language": "python",
   "name": "python3"
  },
  "language_info": {
   "codemirror_mode": {
    "name": "ipython",
    "version": 3
   },
   "file_extension": ".py",
   "mimetype": "text/x-python",
   "name": "python",
   "nbconvert_exporter": "python",
   "pygments_lexer": "ipython3",
   "version": "3.8.5"
  }
 },
 "nbformat": 4,
 "nbformat_minor": 4
}
