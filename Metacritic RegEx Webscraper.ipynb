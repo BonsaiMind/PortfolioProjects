{
 "cells": [
  {
   "cell_type": "code",
   "execution_count": 1,
   "metadata": {},
   "outputs": [],
   "source": [
    "#bringing in the necessary libraries\n",
    "import urllib3\n",
    "import re\n",
    "\n",
    "#since my machine (I think) lacks the proper certifications for this exercise,\n",
    "#the next line of code in conjunction with cert_reqs='CERT_NONE' temporarily bandades error issues.\n",
    "urllib3.disable_warnings()"
   ]
  },
  {
   "cell_type": "code",
   "execution_count": 4,
   "metadata": {},
   "outputs": [],
   "source": [
    "#declaring a variable the url server requires.\n",
    "headers = {\"User-Agent\": \"Chrome/94.0.4606.71\"}\n",
    "\n",
    "#now we're gonna party like it's 2001\n",
    "url = 'https://www.metacritic.com/browse/movies/score/metascore/year/filtered?year_selected=2001&sort=desc&view=detailed'"
   ]
  },
  {
   "cell_type": "code",
   "execution_count": 5,
   "metadata": {},
   "outputs": [],
   "source": [
    "#https://stackoverflow.com/questions/34735761/https-url-ignore-cert-warning-and-continue?rq=1\n",
    "#helped me discover how to work around the SSL Certificate error\n",
    "http = urllib3.PoolManager(cert_reqs='CERT_NONE')\n",
    "\n",
    "#initiating a request to check out the url\n",
    "r = http.request('GET', url)\n",
    "\n",
    "#changing to data type to make the request readable\n",
    "text = str(r.data, 'utf-8')"
   ]
  },
  {
   "cell_type": "code",
   "execution_count": 6,
   "metadata": {},
   "outputs": [],
   "source": [
    "#declaring RegEx variables\n",
    "movie_titles = 'class=\"title\"><h3>(.*)<\\/h3>'\n",
    "release_dates = '<span>(.*)<\\/span>\\n\\n'\n",
    "movie_summaries = '<div class=\"summary\">\\n\\s+(.*)'\n",
    "meta_scores = '>(\\d*)<\\/div>\\n\\s+<\\/a>\\n\\n\\s+<\\/div>\\n\\n'\n",
    "poster_images = 'movie\\/.*><img src=\"(.*.jpg)'"
   ]
  },
  {
   "cell_type": "code",
   "execution_count": 5,
   "metadata": {},
   "outputs": [],
   "source": [
    "#Let the searches begin\n",
    "\n",
    "titles = re.findall(movie_titles, text)\n",
    "i = 1\n",
    "for each_title in titles:\n",
    "    print(i,'-', each_title)\n",
    "    i += 1"
   ]
  },
  {
   "cell_type": "code",
   "execution_count": 6,
   "metadata": {},
   "outputs": [],
   "source": [
    "dates = re.findall(release_dates, text)\n",
    "i = 1\n",
    "for each_date in dates:\n",
    "    print(i,'-', each_date)\n",
    "    i += 1"
   ]
  },
  {
   "cell_type": "code",
   "execution_count": 7,
   "metadata": {},
   "outputs": [],
   "source": [
    "summaries = re.findall(movie_summaries, text)\n",
    "i = 1\n",
    "for each_summary in summaries:\n",
    "    print(i, '-', each_summary)\n",
    "    i += 1"
   ]
  },
  {
   "cell_type": "code",
   "execution_count": 8,
   "metadata": {},
   "outputs": [],
   "source": [
    "scores = re.findall(meta_scores, text)\n",
    "i = 1\n",
    "for each_score in scores:\n",
    "    print(i,'-', each_score)\n",
    "    i += 1"
   ]
  },
  {
   "cell_type": "code",
   "execution_count": 9,
   "metadata": {},
   "outputs": [],
   "source": [
    "images = re.findall(poster_images, text)\n",
    "i = 1\n",
    "for each_image in images:\n",
    "    print(i,'-',each_image)\n",
    "    i += 1"
   ]
  },
  {
   "cell_type": "code",
   "execution_count": null,
   "metadata": {},
   "outputs": [],
   "source": []
  }
 ],
 "metadata": {
  "kernelspec": {
   "display_name": "Python 3",
   "language": "python",
   "name": "python3"
  },
  "language_info": {
   "codemirror_mode": {
    "name": "ipython",
    "version": 3
   },
   "file_extension": ".py",
   "mimetype": "text/x-python",
   "name": "python",
   "nbconvert_exporter": "python",
   "pygments_lexer": "ipython3",
   "version": "3.8.5"
  }
 },
 "nbformat": 4,
 "nbformat_minor": 4
}
